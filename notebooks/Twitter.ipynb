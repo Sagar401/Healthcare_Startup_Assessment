{
 "cells": [
  {
   "cell_type": "code",
   "execution_count": 1,
   "metadata": {},
   "outputs": [],
   "source": [
    "from bs4 import BeautifulSoup\n",
    "from selenium import webdriver\n",
    "import pandas as pd\n",
    "import requests"
   ]
  },
  {
   "cell_type": "code",
   "execution_count": 2,
   "metadata": {},
   "outputs": [],
   "source": [
    "def get_twitter_stats(url):\n",
    "    #twitter_url = 'https://twitter.com/ginxapp'\n",
    "    twitter_url = url\n",
    "    driver = webdriver.Chrome()\n",
    "    driver.get(twitter_url)\n",
    "    content = driver.page_source.encode('utf-8').strip()\n",
    "    twitter_soup = BeautifulSoup(content, 'lxml')\n",
    "    try:\n",
    "        stats = twitter_soup.findAll(\"span\", class_=\"css-901oao css-16my406 r-1qd0xha r-vw2c0b r-ad9z0x r-bcqeeo r-qvutc0\")\n",
    "        if(len(stats) > 0):\n",
    "            following = stats[0].text.strip() \n",
    "            followers = stats[1].text.strip()\n",
    "        else:\n",
    "            following = 0\n",
    "            followers = 0\n",
    "        driver.close()\n",
    "        return following, followers\n",
    "    except:\n",
    "        driver.close()\n",
    "        return 0,0"
   ]
  },
  {
   "cell_type": "code",
   "execution_count": 3,
   "metadata": {},
   "outputs": [],
   "source": [
    "def get_twitter_url(url):\n",
    "    #angelist_url = 'https://angel.co/company/ginx'\n",
    "    angelist_url = url\n",
    "    driver = webdriver.Chrome()\n",
    "    driver.get(angelist_url)\n",
    "    content = driver.page_source.encode('utf-8').strip()\n",
    "    angelist_soup = BeautifulSoup(content,'html.parser')\n",
    "    try:\n",
    "        links = angelist_soup.find_all('a',class_='component_21e4d defaultLink_7325e',rel='nofollow noopener noreferrer',href=True)\n",
    "        for link in links:\n",
    "            if(\"twitter\" in str(link.get('href'))):\n",
    "                twitter_url = link.get('href')\n",
    "        driver.close()\n",
    "        return get_twitter_stats(twitter_url)\n",
    "    except:\n",
    "        driver.close()\n",
    "        return 0,0\n",
    "    "
   ]
  },
  {
   "cell_type": "code",
   "execution_count": 12,
   "metadata": {},
   "outputs": [],
   "source": [
    "df = pd.read_csv('../data_store/processed/companies_full.csv')"
   ]
  },
  {
   "cell_type": "code",
   "execution_count": null,
   "metadata": {},
   "outputs": [],
   "source": [
    "following= []\n",
    "followers = []\n",
    "\n",
    "for i in df.link.head():\n",
    "    following_temp, followers_temp = get_twitter_url(i)\n",
    "    following.append(following_temp)\n",
    "    followers.append(followers_temp)\n",
    "    \n",
    "df['followers']= followers\n",
    "df['following']= following\n"
   ]
  },
  {
   "cell_type": "code",
   "execution_count": null,
   "metadata": {},
   "outputs": [],
   "source": [
    "df.to_csv('../data_store/processed/test_companies_social_media.csv')    "
   ]
  },
  {
   "cell_type": "code",
   "execution_count": null,
   "metadata": {},
   "outputs": [],
   "source": []
  }
 ],
 "metadata": {
  "kernelspec": {
   "display_name": "Python 3",
   "language": "python",
   "name": "python3"
  },
  "language_info": {
   "codemirror_mode": {
    "name": "ipython",
    "version": 3
   },
   "file_extension": ".py",
   "mimetype": "text/x-python",
   "name": "python",
   "nbconvert_exporter": "python",
   "pygments_lexer": "ipython3",
   "version": "3.7.6"
  }
 },
 "nbformat": 4,
 "nbformat_minor": 4
}
