{
 "cells": [
  {
   "cell_type": "code",
   "execution_count": 1,
   "metadata": {},
   "outputs": [
    {
     "name": "stderr",
     "output_type": "stream",
     "text": [
      "C:\\ProgramData\\Anaconda3\\lib\\site-packages\\statsmodels\\tools\\_testing.py:19: FutureWarning: pandas.util.testing is deprecated. Use the functions in the public API at pandas.testing instead.\n",
      "  import pandas.util.testing as tm\n"
     ]
    },
    {
     "data": {
      "text/html": [
       "        <script type=\"text/javascript\">\n",
       "        window.PlotlyConfig = {MathJaxConfig: 'local'};\n",
       "        if (window.MathJax) {MathJax.Hub.Config({SVG: {font: \"STIX-Web\"}});}\n",
       "        if (typeof require !== 'undefined') {\n",
       "        require.undef(\"plotly\");\n",
       "        requirejs.config({\n",
       "            paths: {\n",
       "                'plotly': ['https://cdn.plot.ly/plotly-latest.min']\n",
       "            }\n",
       "        });\n",
       "        require(['plotly'], function(Plotly) {\n",
       "            window._Plotly = Plotly;\n",
       "        });\n",
       "        }\n",
       "        </script>\n",
       "        "
      ]
     },
     "metadata": {},
     "output_type": "display_data"
    }
   ],
   "source": [
    "import numpy as np\n",
    "import pandas as pd\n",
    "from pandas_profiling import ProfileReport\n",
    "\n",
    "import seaborn as sb\n",
    "import matplotlib.pyplot as matplot\n",
    "from pandas import plotting\n",
    "from sklearn.metrics import accuracy_score\n",
    "from sklearn.pipeline import make_pipeline\n",
    "from sklearn.pipeline import FeatureUnion\n",
    "from sklearn import metrics\n",
    "from sklearn.metrics import classification_report,accuracy_score\n",
    "from collections import Counter\n",
    "from sklearn.feature_extraction.text import TfidfVectorizer\n",
    "from sklearn.feature_extraction import DictVectorizer\n",
    "from sklearn.model_selection import train_test_split\n",
    "from sklearn.ensemble import RandomForestClassifier\n",
    "from sklearn.cluster import DBSCAN\n",
    "from sklearn import tree\n",
    "from pdpbox import pdp, get_dataset, info_plots\n",
    "from eli5.sklearn import PermutationImportance\n",
    "from sklearn.preprocessing import LabelEncoder\n",
    "from sklearn.linear_model import LinearRegression, LogisticRegression\n",
    "from sklearn.svm import SVC\n",
    "from sklearn.preprocessing import scale\n",
    "from collections import Counter\n",
    "from sklearn.metrics import confusion_matrix\n",
    "from pandas_profiling import ProfileReport\n",
    "from xgboost import XGBClassifier\n",
    "from sklearn import svm\n",
    "#Data relatioship\n",
    "%matplotlib inline\n",
    "import warnings\n",
    "import eli5\n",
    "warnings.filterwarnings('ignore')\n",
    "from plotly.offline import iplot, init_notebook_mode\n",
    "import plotly.offline as py\n",
    "from plotly import tools\n",
    "init_notebook_mode(connected = True)\n",
    "import plotly.figure_factory as ff\n",
    "import plotly.graph_objs as go\n",
    "import datetime as dt"
   ]
  },
  {
   "cell_type": "markdown",
   "metadata": {},
   "source": [
    "# Analytical Study"
   ]
  },
  {
   "cell_type": "code",
   "execution_count": 2,
   "metadata": {},
   "outputs": [],
   "source": [
    "StartupFinal= pd.read_csv(r'C:\\Users\\erraj\\OneDrive\\Documents\\Myfile\\NEU\\Quarter 5\\Term 1\\Capstone\\StartupFile_USA_Final.csv')"
   ]
  },
  {
   "cell_type": "code",
   "execution_count": 3,
   "metadata": {
    "scrolled": true
   },
   "outputs": [
    {
     "data": {
      "text/plain": [
       "startupName                           0\n",
       "homepage_url                        235\n",
       "category_list                         0\n",
       "total_funding                         0\n",
       "status                                0\n",
       "country_code                          0\n",
       "state_code                            0\n",
       "funding_rounds                        0\n",
       "first_funding_at                      0\n",
       "last_funding_at                       0\n",
       "homepage_url_code                     0\n",
       "time_delayFor_first_round             0\n",
       "average_time_delay_rounds             0\n",
       "average_raised_usd                    0\n",
       "average_time_delay_rounds_number      0\n",
       "time_delayFor_first_round_number      0\n",
       "statusCode                            0\n",
       "No_Of_Investors                       0\n",
       "MainCategory                          0\n",
       "USA_Region                            0\n",
       "dtype: int64"
      ]
     },
     "execution_count": 3,
     "metadata": {},
     "output_type": "execute_result"
    }
   ],
   "source": [
    "StartupFinal.isnull().sum()"
   ]
  },
  {
   "cell_type": "code",
   "execution_count": 4,
   "metadata": {},
   "outputs": [
    {
     "name": "stdout",
     "output_type": "stream",
     "text": [
      "The shape of final Startup dataset used for Analytical study is : (9623, 20)\n"
     ]
    }
   ],
   "source": [
    "print(\"The shape of final Startup dataset used for Analytical study is :\", StartupFinal.shape)"
   ]
  },
  {
   "cell_type": "code",
   "execution_count": 5,
   "metadata": {},
   "outputs": [],
   "source": [
    "StartupFinalForProfile=StartupFinal[['total_funding','status','state_code', 'funding_rounds', 'time_delayFor_first_round_number','average_raised_usd', 'average_time_delay_rounds_number',\n",
    "              'No_Of_Investors','USA_Region','homepage_url_code', 'statusCode','MainCategory']]"
   ]
  },
  {
   "cell_type": "code",
   "execution_count": 6,
   "metadata": {},
   "outputs": [],
   "source": [
    "profile= ProfileReport(StartupFinalForProfile, title='USA based ALL startups', explorative=True)"
   ]
  },
  {
   "cell_type": "code",
   "execution_count": 7,
   "metadata": {},
   "outputs": [],
   "source": [
    "#profile.to_file(\"US-BasedALLStartups(2005-2010).html\")"
   ]
  },
  {
   "cell_type": "code",
   "execution_count": 8,
   "metadata": {},
   "outputs": [],
   "source": [
    "#StartupFinal= StartupFinal.fillna({\n",
    "#    'average_time_between_rounds_number':StartupFinal['average_time_between_rounds_number'].mean()\n",
    "#})"
   ]
  },
  {
   "cell_type": "code",
   "execution_count": 9,
   "metadata": {},
   "outputs": [
    {
     "data": {
      "text/html": [
       "<div>\n",
       "<style scoped>\n",
       "    .dataframe tbody tr th:only-of-type {\n",
       "        vertical-align: middle;\n",
       "    }\n",
       "\n",
       "    .dataframe tbody tr th {\n",
       "        vertical-align: top;\n",
       "    }\n",
       "\n",
       "    .dataframe thead th {\n",
       "        text-align: right;\n",
       "    }\n",
       "</style>\n",
       "<table border=\"1\" class=\"dataframe\">\n",
       "  <thead>\n",
       "    <tr style=\"text-align: right;\">\n",
       "      <th></th>\n",
       "      <th>startupName</th>\n",
       "      <th>homepage_url</th>\n",
       "      <th>category_list</th>\n",
       "      <th>total_funding</th>\n",
       "      <th>status</th>\n",
       "      <th>country_code</th>\n",
       "      <th>state_code</th>\n",
       "      <th>funding_rounds</th>\n",
       "      <th>first_funding_at</th>\n",
       "      <th>last_funding_at</th>\n",
       "      <th>homepage_url_code</th>\n",
       "      <th>time_delayFor_first_round</th>\n",
       "      <th>average_time_delay_rounds</th>\n",
       "      <th>average_raised_usd</th>\n",
       "      <th>average_time_delay_rounds_number</th>\n",
       "      <th>time_delayFor_first_round_number</th>\n",
       "      <th>statusCode</th>\n",
       "      <th>No_Of_Investors</th>\n",
       "      <th>MainCategory</th>\n",
       "      <th>USA_Region</th>\n",
       "    </tr>\n",
       "  </thead>\n",
       "  <tbody>\n",
       "    <tr>\n",
       "      <th>0</th>\n",
       "      <td>One Inc.</td>\n",
       "      <td>http://whatis1.com</td>\n",
       "      <td>mobile</td>\n",
       "      <td>1150050.0</td>\n",
       "      <td>operating</td>\n",
       "      <td>USA</td>\n",
       "      <td>CA</td>\n",
       "      <td>3</td>\n",
       "      <td>7/20/2011</td>\n",
       "      <td>2/5/2014</td>\n",
       "      <td>1</td>\n",
       "      <td>566 days 00:00:00.000000000</td>\n",
       "      <td>465 days 12:00:00.000000000</td>\n",
       "      <td>575025.0</td>\n",
       "      <td>465</td>\n",
       "      <td>566</td>\n",
       "      <td>1</td>\n",
       "      <td>12</td>\n",
       "      <td>mobile</td>\n",
       "      <td>West</td>\n",
       "    </tr>\n",
       "    <tr>\n",
       "      <th>1</th>\n",
       "      <td>10-20 Media</td>\n",
       "      <td>http://www.10-20media.com</td>\n",
       "      <td>e-commerce</td>\n",
       "      <td>2050000.0</td>\n",
       "      <td>operating</td>\n",
       "      <td>USA</td>\n",
       "      <td>MD</td>\n",
       "      <td>4</td>\n",
       "      <td>6/18/2009</td>\n",
       "      <td>12/28/2011</td>\n",
       "      <td>1</td>\n",
       "      <td>285 days 00:00:00.000000000</td>\n",
       "      <td>307 days 16:00:00.000000000</td>\n",
       "      <td>512500.0</td>\n",
       "      <td>307</td>\n",
       "      <td>285</td>\n",
       "      <td>0</td>\n",
       "      <td>1</td>\n",
       "      <td>e-commerce</td>\n",
       "      <td>South</td>\n",
       "    </tr>\n",
       "    <tr>\n",
       "      <th>2</th>\n",
       "      <td>Redox</td>\n",
       "      <td>http://www.redoxengine.com</td>\n",
       "      <td>health care|health care information technology...</td>\n",
       "      <td>4000000.0</td>\n",
       "      <td>operating</td>\n",
       "      <td>USA</td>\n",
       "      <td>WI</td>\n",
       "      <td>2</td>\n",
       "      <td>11/26/2014</td>\n",
       "      <td>10/20/2015</td>\n",
       "      <td>1</td>\n",
       "      <td>328 days 00:00:00.000000000</td>\n",
       "      <td>328 days 00:00:00.000000000</td>\n",
       "      <td>2000000.0</td>\n",
       "      <td>328</td>\n",
       "      <td>328</td>\n",
       "      <td>1</td>\n",
       "      <td>6</td>\n",
       "      <td>healthcare</td>\n",
       "      <td>Midwest</td>\n",
       "    </tr>\n",
       "    <tr>\n",
       "      <th>3</th>\n",
       "      <td>10sec</td>\n",
       "      <td>https://10s.ec/</td>\n",
       "      <td>e-commerce|mobile commerce|social commerce</td>\n",
       "      <td>1600000.0</td>\n",
       "      <td>operating</td>\n",
       "      <td>USA</td>\n",
       "      <td>CA</td>\n",
       "      <td>2</td>\n",
       "      <td>10/31/2013</td>\n",
       "      <td>5/8/2014</td>\n",
       "      <td>1</td>\n",
       "      <td>189 days 00:00:00.000000000</td>\n",
       "      <td>189 days 00:00:00.000000000</td>\n",
       "      <td>1600000.0</td>\n",
       "      <td>189</td>\n",
       "      <td>189</td>\n",
       "      <td>1</td>\n",
       "      <td>2</td>\n",
       "      <td>mobile</td>\n",
       "      <td>West</td>\n",
       "    </tr>\n",
       "    <tr>\n",
       "      <th>4</th>\n",
       "      <td>10X Technologies</td>\n",
       "      <td>http://10xtechnologies.com</td>\n",
       "      <td>biotechnology</td>\n",
       "      <td>3550000.0</td>\n",
       "      <td>operating</td>\n",
       "      <td>USA</td>\n",
       "      <td>CA</td>\n",
       "      <td>2</td>\n",
       "      <td>11/7/2012</td>\n",
       "      <td>1/12/2015</td>\n",
       "      <td>1</td>\n",
       "      <td>796 days 00:00:00.000000000</td>\n",
       "      <td>796 days 00:00:00.000000000</td>\n",
       "      <td>1775000.0</td>\n",
       "      <td>796</td>\n",
       "      <td>796</td>\n",
       "      <td>1</td>\n",
       "      <td>1</td>\n",
       "      <td>biotech</td>\n",
       "      <td>West</td>\n",
       "    </tr>\n",
       "  </tbody>\n",
       "</table>\n",
       "</div>"
      ],
      "text/plain": [
       "        startupName                homepage_url  \\\n",
       "0          One Inc.          http://whatis1.com   \n",
       "1       10-20 Media   http://www.10-20media.com   \n",
       "2             Redox  http://www.redoxengine.com   \n",
       "3             10sec             https://10s.ec/   \n",
       "4  10X Technologies  http://10xtechnologies.com   \n",
       "\n",
       "                                       category_list  total_funding  \\\n",
       "0                                             mobile      1150050.0   \n",
       "1                                         e-commerce      2050000.0   \n",
       "2  health care|health care information technology...      4000000.0   \n",
       "3         e-commerce|mobile commerce|social commerce      1600000.0   \n",
       "4                                      biotechnology      3550000.0   \n",
       "\n",
       "      status country_code state_code  funding_rounds first_funding_at  \\\n",
       "0  operating          USA         CA               3        7/20/2011   \n",
       "1  operating          USA         MD               4        6/18/2009   \n",
       "2  operating          USA         WI               2       11/26/2014   \n",
       "3  operating          USA         CA               2       10/31/2013   \n",
       "4  operating          USA         CA               2        11/7/2012   \n",
       "\n",
       "  last_funding_at  homepage_url_code    time_delayFor_first_round  \\\n",
       "0        2/5/2014                  1  566 days 00:00:00.000000000   \n",
       "1      12/28/2011                  1  285 days 00:00:00.000000000   \n",
       "2      10/20/2015                  1  328 days 00:00:00.000000000   \n",
       "3        5/8/2014                  1  189 days 00:00:00.000000000   \n",
       "4       1/12/2015                  1  796 days 00:00:00.000000000   \n",
       "\n",
       "     average_time_delay_rounds  average_raised_usd  \\\n",
       "0  465 days 12:00:00.000000000            575025.0   \n",
       "1  307 days 16:00:00.000000000            512500.0   \n",
       "2  328 days 00:00:00.000000000           2000000.0   \n",
       "3  189 days 00:00:00.000000000           1600000.0   \n",
       "4  796 days 00:00:00.000000000           1775000.0   \n",
       "\n",
       "   average_time_delay_rounds_number  time_delayFor_first_round_number  \\\n",
       "0                               465                               566   \n",
       "1                               307                               285   \n",
       "2                               328                               328   \n",
       "3                               189                               189   \n",
       "4                               796                               796   \n",
       "\n",
       "   statusCode  No_Of_Investors MainCategory USA_Region  \n",
       "0           1               12       mobile       West  \n",
       "1           0                1   e-commerce      South  \n",
       "2           1                6   healthcare    Midwest  \n",
       "3           1                2       mobile       West  \n",
       "4           1                1      biotech       West  "
      ]
     },
     "execution_count": 9,
     "metadata": {},
     "output_type": "execute_result"
    }
   ],
   "source": [
    "StartupFinal.head()"
   ]
  },
  {
   "cell_type": "code",
   "execution_count": 10,
   "metadata": {},
   "outputs": [],
   "source": [
    "from sklearn import preprocessing\n",
    "le = preprocessing.LabelEncoder()"
   ]
  },
  {
   "cell_type": "code",
   "execution_count": 11,
   "metadata": {},
   "outputs": [],
   "source": [
    "# encode the main category\n",
    "StartupFinal['MainCatCode'] = le.fit_transform(StartupFinal['MainCategory'])"
   ]
  },
  {
   "cell_type": "code",
   "execution_count": 12,
   "metadata": {},
   "outputs": [
    {
     "data": {
      "text/plain": [
       "['biotech',\n",
       " 'e-commerce',\n",
       " 'games',\n",
       " 'healthcare',\n",
       " 'manufacturing',\n",
       " 'medicalGear',\n",
       " 'mobile',\n",
       " 'pharma',\n",
       " 'software',\n",
       " 'technology']"
      ]
     },
     "execution_count": 12,
     "metadata": {},
     "output_type": "execute_result"
    }
   ],
   "source": [
    "# unique main categories\n",
    "list(le.classes_)"
   ]
  },
  {
   "cell_type": "code",
   "execution_count": 13,
   "metadata": {},
   "outputs": [],
   "source": [
    "# encode main regions\n",
    "StartupFinal['USA_Region'] = le.fit_transform(StartupFinal['USA_Region'])"
   ]
  },
  {
   "cell_type": "code",
   "execution_count": 14,
   "metadata": {},
   "outputs": [
    {
     "data": {
      "text/plain": [
       "['Midwest', 'Northeast', 'South', 'West']"
      ]
     },
     "execution_count": 14,
     "metadata": {},
     "output_type": "execute_result"
    }
   ],
   "source": [
    "list(le.classes_)"
   ]
  },
  {
   "cell_type": "code",
   "execution_count": 15,
   "metadata": {
    "scrolled": true
   },
   "outputs": [],
   "source": [
    "# seaboarn pair plot to obtain the relationship among all varibles/features\n",
    "#sb.pairplot(StartupFinal)"
   ]
  },
  {
   "cell_type": "code",
   "execution_count": null,
   "metadata": {},
   "outputs": [],
   "source": []
  },
  {
   "cell_type": "code",
   "execution_count": 16,
   "metadata": {},
   "outputs": [
    {
     "data": {
      "text/plain": [
       "Index(['startupName', 'homepage_url', 'category_list', 'total_funding',\n",
       "       'status', 'country_code', 'state_code', 'funding_rounds',\n",
       "       'first_funding_at', 'last_funding_at', 'homepage_url_code',\n",
       "       'time_delayFor_first_round', 'average_time_delay_rounds',\n",
       "       'average_raised_usd', 'average_time_delay_rounds_number',\n",
       "       'time_delayFor_first_round_number', 'statusCode', 'No_Of_Investors',\n",
       "       'MainCategory', 'USA_Region', 'MainCatCode'],\n",
       "      dtype='object')"
      ]
     },
     "execution_count": 16,
     "metadata": {},
     "output_type": "execute_result"
    }
   ],
   "source": [
    "#Print the list of columns\n",
    "StartupFinal.columns"
   ]
  },
  {
   "cell_type": "code",
   "execution_count": 17,
   "metadata": {},
   "outputs": [],
   "source": [
    "X = StartupFinal[['total_funding', 'funding_rounds', 'time_delayFor_first_round_number','average_raised_usd', 'average_time_delay_rounds_number',\n",
    "              'No_Of_Investors','MainCatCode','USA_Region','homepage_url_code']]\n",
    "\n",
    "y = StartupFinal[['statusCode']]"
   ]
  },
  {
   "cell_type": "code",
   "execution_count": 18,
   "metadata": {},
   "outputs": [],
   "source": [
    "X_train, X_test, y_train, y_test = train_test_split(X,\n",
    "                                                    y,\n",
    "                                                    test_size=0.2,\n",
    "                                                    random_state=40,\n",
    "                                                    stratify=y)"
   ]
  },
  {
   "cell_type": "code",
   "execution_count": 19,
   "metadata": {},
   "outputs": [],
   "source": [
    "from sklearn.preprocessing import StandardScaler\n",
    "scaler_transform = StandardScaler()\n",
    "\n",
    "# Fit the scaler using the training data and scale it\n",
    "X_train_scaledData = pd.DataFrame(scaler_transform.fit_transform(X_train.values),\n",
    "                              columns=X.columns)\n",
    "\n",
    "# Scale the test data\n",
    "X_test_scaledData = pd.DataFrame(scaler_transform.transform(X_test.values),\n",
    "                             columns=X.columns)"
   ]
  },
  {
   "cell_type": "code",
   "execution_count": 20,
   "metadata": {},
   "outputs": [
    {
     "name": "stdout",
     "output_type": "stream",
     "text": [
      "xtrain shape:  (7698, 9)\n",
      "X_train_scaledData shape:  (7698, 9)\n",
      "xtest shape:  (1925, 9)\n",
      "X_test_scaledData shape:  (1925, 9)\n",
      "ytrain shape:  (7698, 1)\n",
      "ytest shape:  (1925, 1)\n"
     ]
    }
   ],
   "source": [
    "print(\"xtrain shape: \", X_train.shape)\n",
    "print(\"X_train_scaledData shape: \", X_train_scaledData.shape)\n",
    "print(\"xtest shape: \", X_test.shape)\n",
    "print(\"X_test_scaledData shape: \", X_test_scaledData.shape)\n",
    "print(\"ytrain shape: \", y_train.shape)\n",
    "print(\"ytest shape: \", y_test.shape)"
   ]
  },
  {
   "cell_type": "code",
   "execution_count": 21,
   "metadata": {},
   "outputs": [],
   "source": [
    "def pred_models_scaled(x_trn, y_trn, x_tst, y_tst):\n",
    "    logistic_reg = LogisticRegression()\n",
    "    svm_model = svm.SVC()\n",
    "    xgb = XGBClassifier()\n",
    "    random_forest = RandomForestClassifier()\n",
    "    \n",
    "    l = logistic_reg.fit(x_trn,y_trn)\n",
    "    s = svm_model.fit(x_trn,y_trn)\n",
    "    x = xgb.fit(x_trn,y_trn)\n",
    "    r = random_forest.fit(x_trn,y_trn)\n",
    "    \n",
    "    l_pred = l.predict(x_tst)\n",
    "    s_pred = s.predict(x_tst)\n",
    "    x_pred = x.predict(x_tst)\n",
    "    r_pred = r.predict(x_tst)\n",
    "    \n",
    "    \n",
    "    accuracy_scaled= {'model':['LogisticReg','SVM','XGb','RandomForest'], \n",
    "              'test_score':[accuracy_score(y_tst,l_pred),accuracy_score(y_tst,s_pred),accuracy_score(y_tst,x_pred),accuracy_score(y_tst,r_pred)],\n",
    "              'train_accuracy':[accuracy_score(y_trn, l.predict(x_trn)),accuracy_score(y_trn, s.predict(x_trn)),accuracy_score(y_trn, x.predict(x_trn)),accuracy_score(y_trn, r.predict(x_trn))]}\n",
    "    accuracy_scaled = pd.DataFrame(data= accuracy_scaled)\n",
    "    \n",
    "    return accuracy_scaled"
   ]
  },
  {
   "cell_type": "code",
   "execution_count": 22,
   "metadata": {},
   "outputs": [
    {
     "data": {
      "text/html": [
       "<div>\n",
       "<style scoped>\n",
       "    .dataframe tbody tr th:only-of-type {\n",
       "        vertical-align: middle;\n",
       "    }\n",
       "\n",
       "    .dataframe tbody tr th {\n",
       "        vertical-align: top;\n",
       "    }\n",
       "\n",
       "    .dataframe thead th {\n",
       "        text-align: right;\n",
       "    }\n",
       "</style>\n",
       "<table border=\"1\" class=\"dataframe\">\n",
       "  <thead>\n",
       "    <tr style=\"text-align: right;\">\n",
       "      <th></th>\n",
       "      <th>model</th>\n",
       "      <th>test_score</th>\n",
       "      <th>train_accuracy</th>\n",
       "    </tr>\n",
       "  </thead>\n",
       "  <tbody>\n",
       "    <tr>\n",
       "      <th>0</th>\n",
       "      <td>LogisticReg</td>\n",
       "      <td>0.750649</td>\n",
       "      <td>0.749545</td>\n",
       "    </tr>\n",
       "    <tr>\n",
       "      <th>1</th>\n",
       "      <td>SVM</td>\n",
       "      <td>0.752208</td>\n",
       "      <td>0.750325</td>\n",
       "    </tr>\n",
       "    <tr>\n",
       "      <th>2</th>\n",
       "      <td>XGb</td>\n",
       "      <td>0.741299</td>\n",
       "      <td>0.885035</td>\n",
       "    </tr>\n",
       "    <tr>\n",
       "      <th>3</th>\n",
       "      <td>RandomForest</td>\n",
       "      <td>0.745455</td>\n",
       "      <td>0.999740</td>\n",
       "    </tr>\n",
       "  </tbody>\n",
       "</table>\n",
       "</div>"
      ],
      "text/plain": [
       "          model  test_score  train_accuracy\n",
       "0   LogisticReg    0.750649        0.749545\n",
       "1           SVM    0.752208        0.750325\n",
       "2           XGb    0.741299        0.885035\n",
       "3  RandomForest    0.745455        0.999740"
      ]
     },
     "execution_count": 22,
     "metadata": {},
     "output_type": "execute_result"
    }
   ],
   "source": [
    "scaledScore = pred_models_scaled(X_train_scaledData,y_train,X_test_scaledData,y_test)\n",
    "scaledScore"
   ]
  },
  {
   "cell_type": "code",
   "execution_count": 25,
   "metadata": {},
   "outputs": [],
   "source": [
    "def preds(x_trn, y_trn, x_tst, y_tst):\n",
    "    logistic_reg = LogisticRegression()\n",
    "    svm_model = svm.SVC()\n",
    "    xgb = XGBClassifier()\n",
    "    random_forest = RandomForestClassifier()\n",
    "    \n",
    "    l = logistic_reg.fit(x_trn,y_trn)\n",
    "    s = svm_model.fit(x_trn,y_trn)\n",
    "    x = xgb.fit(x_trn,y_trn)\n",
    "    r = random_forest.fit(x_trn,y_trn)\n",
    "    \n",
    "    log_pred = l.predict(x_tst)\n",
    "    svm_pred = s.predict(x_tst)\n",
    "    xgb_pred = x.predict(x_tst)\n",
    "    rf_pred = r.predict(x_tst)\n",
    "    \n",
    "    return log_pred,svm_pred,xgb_pred,rf_pred"
   ]
  },
  {
   "cell_type": "code",
   "execution_count": 26,
   "metadata": {},
   "outputs": [],
   "source": [
    "log_pred,svm_pred,xgb_pred,rf_pred = preds(X_train_scaledData,y_train,X_test_scaledData,y_test)"
   ]
  },
  {
   "cell_type": "code",
   "execution_count": 29,
   "metadata": {},
   "outputs": [],
   "source": [
    "from sklearn.metrics import roc_curve, roc_auc_score\n",
    "from sklearn import metrics\n",
    "\n",
    "fpr_log, tpr_log, thresh_log = metrics.roc_curve(y_test.statusCode,log_pred)\n",
    "auc_log = metrics.roc_auc_score(y_test.statusCode,log_pred)\n",
    "\n",
    "fpr_svm, tpr_svm, thresh_svm = metrics.roc_curve(y_test.statusCode,svm_pred)\n",
    "auc_svm = metrics.roc_auc_score(y_test.statusCode,svm_pred)\n",
    "\n",
    "fpr_xgb, tpr_xgb, thresh_xgb = metrics.roc_curve(y_test.statusCode,xgb_pred)\n",
    "auc_xgb = metrics.roc_auc_score(y_test.statusCode,xgb_pred)\n",
    "\n",
    "fpr_rf, tpr_rf, thresh_rf = metrics.roc_curve(y_test.statusCode,rf_pred)\n",
    "auc_rf = metrics.roc_auc_score(y_test.statusCode,rf_pred)"
   ]
  },
  {
   "cell_type": "code",
   "execution_count": 32,
   "metadata": {},
   "outputs": [
    {
     "data": {
      "text/plain": [
       "<matplotlib.legend.Legend at 0x1b1d45fb6c8>"
      ]
     },
     "execution_count": 32,
     "metadata": {},
     "output_type": "execute_result"
    },
    {
     "data": {
      "image/png": "[encoded data removed]",
      "text/plain": [
       "<Figure size 1440x576 with 1 Axes>"
      ]
     },
     "metadata": {
      "needs_background": "light"
     },
     "output_type": "display_data"
    }
   ],
   "source": [
    "#roc curve\n",
    "import matplotlib.pyplot as plt\n",
    "plt.figure(figsize=(20,8))\n",
    "plt.plot(fpr_log,tpr_log,label=\"logreg, auc=\"+str(auc_log))\n",
    "plt.plot(fpr_svm,tpr_svm,label=\"SVC, auc=\"+str(auc_svm))\n",
    "plt.plot(fpr_xgb,tpr_xgb,label=\"XGB, auc=\"+str(auc_xgb))\n",
    "plt.plot(fpr_rf,tpr_rf,label=\"RF, auc=\"+str(auc_rf))\n",
    "plt.plot([0,1], [0,1], color='red', linestyle='--')\n",
    "plt.xlabel(\"Flase Positive Rate\")\n",
    "plt.ylabel(\"True Positive Rate\")\n",
    "plt.title('ROC Curve Analysis')\n",
    "plt.legend(prop={'size':13}, loc='lower right')"
   ]
  },
  {
   "cell_type": "code",
   "execution_count": 33,
   "metadata": {},
   "outputs": [],
   "source": [
    "from sklearn.metrics import fbeta_score\n",
    "\n",
    "def fbeta_scaled(x_trn, y_trn, x_tst, y_tst):\n",
    "    logistic_reg = LogisticRegression()\n",
    "    svm_model = svm.SVC()\n",
    "    xgb = XGBClassifier()\n",
    "    random_forest = RandomForestClassifier()\n",
    "    \n",
    "    l = logistic_reg.fit(x_trn,y_trn)\n",
    "    s = svm_model.fit(x_trn,y_trn)\n",
    "    x = xgb.fit(x_trn,y_trn)\n",
    "    r = random_forest.fit(x_trn,y_trn)\n",
    "    \n",
    "    l_pred = l.predict(x_tst)\n",
    "    s_pred = s.predict(x_tst)\n",
    "    x_pred = x.predict(x_tst)\n",
    "    r_pred = r.predict(x_tst)\n",
    "    \n",
    "    l_fbeta = fbeta_score(y_tst,l_pred,3)\n",
    "    s_fbeta = fbeta_score(y_tst,s_pred,3)\n",
    "    x_fbeta = fbeta_score(y_tst,x_pred,3)\n",
    "    r_fbeta = fbeta_score(y_tst,r_pred,3)\n",
    "    \n",
    "    fbeta_scaled= {'model':['LogisticReg','SVM','XGb','RandomForest'], \n",
    "              'fb_scr':[l_fbeta,s_fbeta,x_fbeta,r_fbeta]}\n",
    "    fbeta_scaled = pd.DataFrame(data= fbeta_scaled)\n",
    "    \n",
    "    return fbeta_scaled"
   ]
  },
  {
   "cell_type": "code",
   "execution_count": 34,
   "metadata": {},
   "outputs": [
    {
     "data": {
      "text/html": [
       "<div>\n",
       "<style scoped>\n",
       "    .dataframe tbody tr th:only-of-type {\n",
       "        vertical-align: middle;\n",
       "    }\n",
       "\n",
       "    .dataframe tbody tr th {\n",
       "        vertical-align: top;\n",
       "    }\n",
       "\n",
       "    .dataframe thead th {\n",
       "        text-align: right;\n",
       "    }\n",
       "</style>\n",
       "<table border=\"1\" class=\"dataframe\">\n",
       "  <thead>\n",
       "    <tr style=\"text-align: right;\">\n",
       "      <th></th>\n",
       "      <th>model</th>\n",
       "      <th>fb_scr</th>\n",
       "    </tr>\n",
       "  </thead>\n",
       "  <tbody>\n",
       "    <tr>\n",
       "      <th>0</th>\n",
       "      <td>LogisticReg</td>\n",
       "      <td>0.967222</td>\n",
       "    </tr>\n",
       "    <tr>\n",
       "      <th>1</th>\n",
       "      <td>SVM</td>\n",
       "      <td>0.966875</td>\n",
       "    </tr>\n",
       "    <tr>\n",
       "      <th>2</th>\n",
       "      <td>XGb</td>\n",
       "      <td>0.911749</td>\n",
       "    </tr>\n",
       "    <tr>\n",
       "      <th>3</th>\n",
       "      <td>RandomForest</td>\n",
       "      <td>0.916559</td>\n",
       "    </tr>\n",
       "  </tbody>\n",
       "</table>\n",
       "</div>"
      ],
      "text/plain": [
       "          model    fb_scr\n",
       "0   LogisticReg  0.967222\n",
       "1           SVM  0.966875\n",
       "2           XGb  0.911749\n",
       "3  RandomForest  0.916559"
      ]
     },
     "execution_count": 34,
     "metadata": {},
     "output_type": "execute_result"
    }
   ],
   "source": [
    "fbeta_scaled(X_train_scaledData,y_train,X_test_scaledData,y_test)"
   ]
  },
  {
   "cell_type": "code",
   "execution_count": 35,
   "metadata": {},
   "outputs": [
    {
     "name": "stdout",
     "output_type": "stream",
     "text": [
      "[11:56:22] WARNING: C:\\Users\\Administrator\\workspace\\xgboost-win64_release_1.1.0\\src\\learner.cc:480: \n",
      "Parameters: { silent } might not be used.\n",
      "\n",
      "  This may not be accurate due to some parameters are only used in language bindings but\n",
      "  passed down to XGBoost core.  Or some parameters are not used but slip through this\n",
      "  verification. Please open an issue if you find above cases.\n",
      "\n",
      "\n",
      "The accuracy of Test Data: 0.7511688311688312 and Train data: 0.7503247596778384\n"
     ]
    }
   ],
   "source": [
    "model_xgb = XGBClassifier(silent=False, \n",
    "                      scale_pos_weight=1,\n",
    "                      learning_rate=0.01,  \n",
    "                      colsample_bytree = 0.4,\n",
    "                      subsample = 0.8,\n",
    "                      objective='binary:logistic', \n",
    "                      n_estimators=1000, \n",
    "                      reg_alpha = 0.3,\n",
    "                      max_depth=10, \n",
    "                      gamma=10)\n",
    "\n",
    "x = model_xgb.fit(X_train_scaledData,y_train)\n",
    "x_pred = x.predict(X_test_scaledData)\n",
    "\n",
    "test_acc = accuracy_score(y_test,x_pred)\n",
    "train_acc = accuracy_score(y_train, model_xgb.predict(X_train_scaledData))\n",
    "           \n",
    "print('The accuracy of Test Data: {} and Train data: {}'.format(test_acc, train_acc))"
   ]
  },
  {
   "cell_type": "code",
   "execution_count": 36,
   "metadata": {},
   "outputs": [
    {
     "data": {
      "text/plain": [
       "0.5058513658444262"
      ]
     },
     "execution_count": 36,
     "metadata": {},
     "output_type": "execute_result"
    }
   ],
   "source": [
    "roc_auc_x = metrics.roc_auc_score(y_test.statusCode,x_pred)\n",
    "roc_auc_x"
   ]
  },
  {
   "cell_type": "code",
   "execution_count": 46,
   "metadata": {},
   "outputs": [
    {
     "data": {
      "text/plain": [
       "array([[0.04981971, 0.9501803 ],\n",
       "       [0.05423033, 0.94576967],\n",
       "       [0.04981971, 0.9501803 ],\n",
       "       ...,\n",
       "       [0.05443025, 0.94556975],\n",
       "       [0.07544816, 0.92455184],\n",
       "       [0.0740214 , 0.9259786 ]], dtype=float32)"
      ]
     },
     "execution_count": 46,
     "metadata": {},
     "output_type": "execute_result"
    }
   ],
   "source": [
    "model_xgb_pred=model_xgb.predict_proba(X_train)\n",
    "model_xgb_pred"
   ]
  },
  {
   "cell_type": "code",
   "execution_count": null,
   "metadata": {},
   "outputs": [],
   "source": []
  },
  {
   "cell_type": "code",
   "execution_count": null,
   "metadata": {},
   "outputs": [],
   "source": []
  },
  {
   "cell_type": "code",
   "execution_count": 192,
   "metadata": {},
   "outputs": [
    {
     "data": {
      "text/plain": [
       "array([1, 1, 1, ..., 1, 1, 1], dtype=int64)"
      ]
     },
     "execution_count": 192,
     "metadata": {},
     "output_type": "execute_result"
    }
   ],
   "source": [
    "logistic_reg = LogisticRegression()\n",
    "\n",
    "logistic_model = logistic_reg.fit(X_train_scaledData, y_train)\n",
    "logistic_pred = logistic_model.predict(X_test_scaledData)\n",
    "logistic_pred"
   ]
  },
  {
   "cell_type": "code",
   "execution_count": 200,
   "metadata": {},
   "outputs": [
    {
     "data": {
      "text/plain": [
       "0.5048183079931865"
      ]
     },
     "execution_count": 200,
     "metadata": {},
     "output_type": "execute_result"
    }
   ],
   "source": [
    "roc_logReg_auc_x = metrics.roc_auc_score(y_test.statusCode,logistic_pred)\n",
    "roc_logReg_auc_x"
   ]
  },
  {
   "cell_type": "code",
   "execution_count": 201,
   "metadata": {},
   "outputs": [
    {
     "data": {
      "text/plain": [
       "array([[   5,  479],\n",
       "       [   1, 1440]], dtype=int64)"
      ]
     },
     "execution_count": 201,
     "metadata": {},
     "output_type": "execute_result"
    }
   ],
   "source": [
    "confusion_matrix(y_test, logistic_pred, labels=None, sample_weight=None, normalize=None)"
   ]
  },
  {
   "cell_type": "code",
   "execution_count": 202,
   "metadata": {},
   "outputs": [
    {
     "data": {
      "text/plain": [
       "array([[0.29246004, 0.70753996],\n",
       "       [0.23319392, 0.76680608],\n",
       "       [0.34820933, 0.65179067],\n",
       "       ...,\n",
       "       [0.35636224, 0.64363776],\n",
       "       [0.25146808, 0.74853192],\n",
       "       [0.27610618, 0.72389382]])"
      ]
     },
     "execution_count": 202,
     "metadata": {},
     "output_type": "execute_result"
    }
   ],
   "source": [
    "output= logistic_model.predict_proba(X_test_scaledData)\n",
    "output"
   ]
  },
  {
   "cell_type": "code",
   "execution_count": 203,
   "metadata": {},
   "outputs": [
    {
     "data": {
      "text/plain": [
       "array([0.74226804, 0.72164948, 0.7628866 , 0.74226804, 0.74226804,\n",
       "       0.75      , 0.75      , 0.78125   , 0.76041667, 0.76041667,\n",
       "       0.77083333, 0.76041667, 0.76041667, 0.75      , 0.73958333,\n",
       "       0.76041667, 0.73958333, 0.75      , 0.73958333, 0.75      ])"
      ]
     },
     "execution_count": 203,
     "metadata": {},
     "output_type": "execute_result"
    }
   ],
   "source": [
    "cross_val_score(logistic_model, X_test_scaledData, y_test, cv=20)"
   ]
  },
  {
   "cell_type": "code",
   "execution_count": 204,
   "metadata": {},
   "outputs": [
    {
     "name": "stdout",
     "output_type": "stream",
     "text": [
      "The accuracy of Test Data: 0.7506493506493507 and Train data: 0.7494154325798909\n"
     ]
    }
   ],
   "source": [
    "test_acc = accuracy_score(y_test,logistic_pred)\n",
    "train_acc = accuracy_score(y_train, l.predict(X_train_scaledData))\n",
    "           \n",
    "print('The accuracy of Test Data: {} and Train data: {}'.format(test_acc, train_acc))"
   ]
  },
  {
   "cell_type": "code",
   "execution_count": 205,
   "metadata": {},
   "outputs": [
    {
     "data": {
      "text/html": [
       "<div>\n",
       "<style scoped>\n",
       "    .dataframe tbody tr th:only-of-type {\n",
       "        vertical-align: middle;\n",
       "    }\n",
       "\n",
       "    .dataframe tbody tr th {\n",
       "        vertical-align: top;\n",
       "    }\n",
       "\n",
       "    .dataframe thead th {\n",
       "        text-align: right;\n",
       "    }\n",
       "</style>\n",
       "<table border=\"1\" class=\"dataframe\">\n",
       "  <thead>\n",
       "    <tr style=\"text-align: right;\">\n",
       "      <th></th>\n",
       "      <th>Feature</th>\n",
       "      <th>Coefficient</th>\n",
       "    </tr>\n",
       "  </thead>\n",
       "  <tbody>\n",
       "    <tr>\n",
       "      <th>0</th>\n",
       "      <td>funding_rounds</td>\n",
       "      <td>0.496583</td>\n",
       "    </tr>\n",
       "    <tr>\n",
       "      <th>1</th>\n",
       "      <td>No_Of_Investors</td>\n",
       "      <td>0.425744</td>\n",
       "    </tr>\n",
       "    <tr>\n",
       "      <th>2</th>\n",
       "      <td>average_raised_usd</td>\n",
       "      <td>0.375541</td>\n",
       "    </tr>\n",
       "    <tr>\n",
       "      <th>3</th>\n",
       "      <td>average_time_delay_rounds_number</td>\n",
       "      <td>0.217925</td>\n",
       "    </tr>\n",
       "    <tr>\n",
       "      <th>4</th>\n",
       "      <td>MainCatCode</td>\n",
       "      <td>0.077542</td>\n",
       "    </tr>\n",
       "    <tr>\n",
       "      <th>5</th>\n",
       "      <td>homepage_url_code</td>\n",
       "      <td>0.054567</td>\n",
       "    </tr>\n",
       "    <tr>\n",
       "      <th>6</th>\n",
       "      <td>time_delayFor_first_round_number</td>\n",
       "      <td>-0.065406</td>\n",
       "    </tr>\n",
       "    <tr>\n",
       "      <th>7</th>\n",
       "      <td>USA_Region</td>\n",
       "      <td>-0.075758</td>\n",
       "    </tr>\n",
       "    <tr>\n",
       "      <th>8</th>\n",
       "      <td>total_funding</td>\n",
       "      <td>-0.232906</td>\n",
       "    </tr>\n",
       "  </tbody>\n",
       "</table>\n",
       "</div>"
      ],
      "text/plain": [
       "                            Feature  Coefficient\n",
       "0                    funding_rounds     0.496583\n",
       "1                   No_Of_Investors     0.425744\n",
       "2                average_raised_usd     0.375541\n",
       "3  average_time_delay_rounds_number     0.217925\n",
       "4                       MainCatCode     0.077542\n",
       "5                 homepage_url_code     0.054567\n",
       "6  time_delayFor_first_round_number    -0.065406\n",
       "7                        USA_Region    -0.075758\n",
       "8                     total_funding    -0.232906"
      ]
     },
     "execution_count": 205,
     "metadata": {},
     "output_type": "execute_result"
    }
   ],
   "source": [
    "#  Get the coefficient score\n",
    "logRegCoef = pd.DataFrame(sorted(list(zip(X.columns, logistic_reg.coef_[0])),\n",
    "                                   key=(lambda x: x[1]),\n",
    "                                   reverse=True),\n",
    "                            columns=['Feature', 'Coefficient'])\n",
    "logRegCoef"
   ]
  },
  {
   "cell_type": "code",
   "execution_count": 206,
   "metadata": {},
   "outputs": [
    {
     "data": {
      "text/plain": [
       "1.2165093411514627"
      ]
     },
     "execution_count": 206,
     "metadata": {},
     "output_type": "execute_result"
    }
   ],
   "source": [
    "# Calculate the intercept value\n",
    "logistic_reg.intercept_[0]"
   ]
  },
  {
   "cell_type": "code",
   "execution_count": null,
   "metadata": {},
   "outputs": [],
   "source": []
  },
  {
   "cell_type": "code",
   "execution_count": 38,
   "metadata": {},
   "outputs": [],
   "source": [
    "logreg_App = LogisticRegression()\n",
    "\n",
    "logreg_App = logreg_App.fit(X_train, y_train)"
   ]
  },
  {
   "cell_type": "code",
   "execution_count": 39,
   "metadata": {},
   "outputs": [],
   "source": [
    "import pickle\n",
    "with open(\"logreg_App.pkl\", \"wb\") as f:\n",
    "    pickle.dump(logreg_App, f)"
   ]
  },
  {
   "cell_type": "code",
   "execution_count": 43,
   "metadata": {},
   "outputs": [
    {
     "data": {
      "text/plain": [
       "array([[0.30586727, 0.69413273],\n",
       "       [0.48663371, 0.51336629],\n",
       "       [0.41422305, 0.58577695],\n",
       "       ...,\n",
       "       [0.11780819, 0.88219181],\n",
       "       [0.49507649, 0.50492351],\n",
       "       [0.45298156, 0.54701844]])"
      ]
     },
     "execution_count": 43,
     "metadata": {},
     "output_type": "execute_result"
    }
   ],
   "source": [
    "train_pred= logreg_App.predict_proba(X_train)\n",
    "train_pred"
   ]
  },
  {
   "cell_type": "code",
   "execution_count": null,
   "metadata": {},
   "outputs": [],
   "source": []
  },
  {
   "cell_type": "code",
   "execution_count": null,
   "metadata": {},
   "outputs": [],
   "source": []
  },
  {
   "cell_type": "code",
   "execution_count": 105,
   "metadata": {},
   "outputs": [],
   "source": [
    "from sklearn import tree"
   ]
  },
  {
   "cell_type": "code",
   "execution_count": 48,
   "metadata": {},
   "outputs": [],
   "source": [
    "treeModel= tree.DecisionTreeClassifier()"
   ]
  },
  {
   "cell_type": "code",
   "execution_count": 66,
   "metadata": {},
   "outputs": [
    {
     "data": {
      "text/plain": [
       "DecisionTreeClassifier()"
      ]
     },
     "execution_count": 66,
     "metadata": {},
     "output_type": "execute_result"
    }
   ],
   "source": [
    "treeModel.fit(X_train_scaledData, y_train)"
   ]
  },
  {
   "cell_type": "code",
   "execution_count": 67,
   "metadata": {},
   "outputs": [
    {
     "data": {
      "text/plain": [
       "array([0, 1, 1, ..., 0, 1, 0], dtype=int64)"
      ]
     },
     "execution_count": 67,
     "metadata": {},
     "output_type": "execute_result"
    }
   ],
   "source": [
    "y_predTree=treeModel.predict(X_test_scaledData)\n",
    "y_predTree"
   ]
  },
  {
   "cell_type": "code",
   "execution_count": 69,
   "metadata": {},
   "outputs": [
    {
     "data": {
      "text/plain": [
       "array([[ 171,  313],\n",
       "       [ 327, 1114]], dtype=int64)"
      ]
     },
     "execution_count": 69,
     "metadata": {},
     "output_type": "execute_result"
    }
   ],
   "source": [
    "confusion_matrix(y_test, y_predTree, labels=None, sample_weight=None, normalize=None)"
   ]
  },
  {
   "cell_type": "code",
   "execution_count": 70,
   "metadata": {},
   "outputs": [
    {
     "data": {
      "text/plain": [
       "array([[1., 0.],\n",
       "       [0., 1.],\n",
       "       [0., 1.],\n",
       "       ...,\n",
       "       [1., 0.],\n",
       "       [0., 1.],\n",
       "       [1., 0.]])"
      ]
     },
     "execution_count": 70,
     "metadata": {},
     "output_type": "execute_result"
    }
   ],
   "source": [
    "treeModel.predict_proba(X_test_scaledData)"
   ]
  },
  {
   "cell_type": "code",
   "execution_count": 71,
   "metadata": {},
   "outputs": [],
   "source": [
    "from sklearn.model_selection import cross_val_score"
   ]
  },
  {
   "cell_type": "code",
   "execution_count": 72,
   "metadata": {},
   "outputs": [
    {
     "data": {
      "text/plain": [
       "array([0.72020725, 0.67875648, 0.6373057 , 0.67875648, 0.68393782,\n",
       "       0.65104167, 0.66666667, 0.625     , 0.671875  , 0.65625   ])"
      ]
     },
     "execution_count": 72,
     "metadata": {},
     "output_type": "execute_result"
    }
   ],
   "source": [
    "cross_val_score(treeModel, X_test_scaledData, y_test, cv=10)"
   ]
  },
  {
   "cell_type": "code",
   "execution_count": 59,
   "metadata": {},
   "outputs": [],
   "source": [
    "import pickle\n",
    "with open(\"decisionTree.pkl\", \"wb\") as f:\n",
    "    pickle.dump(treeModel, f)"
   ]
  },
  {
   "cell_type": "code",
   "execution_count": 74,
   "metadata": {},
   "outputs": [],
   "source": [
    "random_forestApp = RandomForestClassifier()"
   ]
  },
  {
   "cell_type": "code",
   "execution_count": 75,
   "metadata": {},
   "outputs": [
    {
     "data": {
      "text/plain": [
       "RandomForestClassifier()"
      ]
     },
     "execution_count": 75,
     "metadata": {},
     "output_type": "execute_result"
    }
   ],
   "source": [
    "random_forestApp.fit(X_train_scaledData, y_train)"
   ]
  },
  {
   "cell_type": "code",
   "execution_count": 79,
   "metadata": {
    "scrolled": true
   },
   "outputs": [
    {
     "data": {
      "text/plain": [
       "array([[0.29, 0.71],\n",
       "       [0.15, 0.85],\n",
       "       [0.26, 0.74],\n",
       "       ...,\n",
       "       [0.54, 0.46],\n",
       "       [0.35, 0.65],\n",
       "       [0.24, 0.76]])"
      ]
     },
     "execution_count": 79,
     "metadata": {},
     "output_type": "execute_result"
    }
   ],
   "source": [
    "RFX_Predict=random_forestApp.predict_proba(X_test_scaledData)\n",
    "RFX_Predict"
   ]
  },
  {
   "cell_type": "code",
   "execution_count": null,
   "metadata": {},
   "outputs": [],
   "source": []
  },
  {
   "cell_type": "code",
   "execution_count": null,
   "metadata": {},
   "outputs": [],
   "source": []
  },
  {
   "cell_type": "code",
   "execution_count": null,
   "metadata": {},
   "outputs": [],
   "source": []
  },
  {
   "cell_type": "code",
   "execution_count": null,
   "metadata": {},
   "outputs": [],
   "source": []
  },
  {
   "cell_type": "code",
   "execution_count": null,
   "metadata": {},
   "outputs": [],
   "source": []
  },
  {
   "cell_type": "code",
   "execution_count": null,
   "metadata": {},
   "outputs": [],
   "source": []
  },
  {
   "cell_type": "code",
   "execution_count": null,
   "metadata": {},
   "outputs": [],
   "source": []
  },
  {
   "cell_type": "code",
   "execution_count": 53,
   "metadata": {},
   "outputs": [],
   "source": [
    "import pickle\n",
    "with open(\"scaler_transform.pkl\", \"wb\") as f:\n",
    "    pickle.dump(scaler_transform, f)"
   ]
  },
  {
   "cell_type": "code",
   "execution_count": 162,
   "metadata": {},
   "outputs": [],
   "source": [
    "import pickle\n",
    "with open(\"logistic_reg.pkl\", \"wb\") as f:\n",
    "    pickle.dump(logistic_reg, f)"
   ]
  },
  {
   "cell_type": "code",
   "execution_count": null,
   "metadata": {},
   "outputs": [],
   "source": []
  },
  {
   "cell_type": "code",
   "execution_count": null,
   "metadata": {},
   "outputs": [],
   "source": []
  }
 ],
 "metadata": {
  "kernelspec": {
   "display_name": "Python 3",
   "language": "python",
   "name": "python3"
  },
  "language_info": {
   "codemirror_mode": {
    "name": "ipython",
    "version": 3
   },
   "file_extension": ".py",
   "mimetype": "text/x-python",
   "name": "python",
   "nbconvert_exporter": "python",
   "pygments_lexer": "ipython3",
   "version": "3.7.4"
  }
 },
 "nbformat": 4,
 "nbformat_minor": 2
}
